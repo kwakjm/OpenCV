{
 "cells": [
  {
   "cell_type": "code",
   "execution_count": 1,
   "metadata": {},
   "outputs": [],
   "source": [
    "import numpy as np\n",
    "import sys\n",
    "import cv2\n",
    "import matplotlib.pyplot as plt\n",
    "import os"
   ]
  },
  {
   "attachments": {},
   "cell_type": "markdown",
   "metadata": {},
   "source": [
    "### 직선그리기"
   ]
  },
  {
   "cell_type": "code",
   "execution_count": 2,
   "metadata": {},
   "outputs": [],
   "source": [
    "img = np.ones((600,1200,3), np.uint8)*255\n",
    "#cv2.line(img, pt1, pt2, color, thickness, = None, lineType = None, shift =None) ->img\n",
    "#flag\n",
    "    #img:그림을 그릴 영상\n",
    "    #pt1,pt2: 직선의 시작점,끝점\n",
    "    #color:직선의 칼라(BGR)의 튜플\n",
    "    #thickness:선두께, 기본은 =1\n",
    "    #lineType: cv2.LINE_4, cv.LINE_8,cv.LINE_AA\n",
    "    \n",
    "cv2.line(img, (50,80), (200,80), (0,0,255), 2, cv2.LINE_8)\n",
    "cv2.line(img, (200,80), (100,250), (0,0,255), 2, cv2.LINE_AA)\n",
    "cv2.arrowedLine(img, (300, 80),(300,250), (255,0,0), 2, cv2.LINE_AA)\n",
    "cv2.imshow('img',img)\n",
    "\n",
    "cv2.waitKeyEx()\n",
    "cv2.destroyAllWindows()"
   ]
  },
  {
   "attachments": {},
   "cell_type": "markdown",
   "metadata": {},
   "source": [
    "### 사각형 그리기"
   ]
  },
  {
   "cell_type": "code",
   "execution_count": 3,
   "metadata": {},
   "outputs": [],
   "source": [
    "#cv2.rectangle(img, pt1,pt2,color, thickness = None, lineType = None) ->img \n",
    "\n",
    "\n",
    "img = np.ones((600,1200,3), np.uint8)*255\n",
    "\n",
    "cv2.rectangle(img, (50,400),(300,500),(0,0,255), 5)\n",
    "\n",
    "#cv2.rectangle(img, rect(x,y,w,h), color, thickness = None, lineType = None) ->img\n",
    "cv2.rectangle(img, (70,420,210,60), (0,255,0), -1)\n",
    "\n",
    "cv2.imshow('img',img)\n",
    "\n",
    "cv2.waitKeyEx()\n",
    "cv2.destroyAllWindows()"
   ]
  },
  {
   "attachments": {},
   "cell_type": "markdown",
   "metadata": {},
   "source": [
    "### 원그리기"
   ]
  },
  {
   "cell_type": "code",
   "execution_count": 4,
   "metadata": {},
   "outputs": [],
   "source": [
    "img = np.ones((600,1200,3), np.uint8)*255\n",
    "\n",
    "#cv2.circle(img, center, radius, color, thisckness = None, lineType = None) ->img\n",
    "\n",
    "\n",
    "\n",
    "cv2.circle(img,(800,300), 100,(0,123,65),2,cv2.LINE_AA)\n",
    "cv2.imshow('img',img)\n",
    "cv2.waitKeyEx()\n",
    "cv2.destroyAllWindows()"
   ]
  },
  {
   "attachments": {},
   "cell_type": "markdown",
   "metadata": {},
   "source": [
    "### 타원그리기"
   ]
  },
  {
   "cell_type": "code",
   "execution_count": 5,
   "metadata": {},
   "outputs": [],
   "source": [
    "img = np.ones((600,1200,3), np.uint8)*255\n",
    "\n",
    "#cv2.ellipse(img, center, axes, angle, startAngle, endAngle, color[, thickness[,lineType[,shift]]])\n",
    "    #center: 원의 중심좌표(x,y)\n",
    "    #axis: 축의 반지름(x,y)\n",
    "    #angle: 타원의 기울기(예, 10, 오른쪽에서 10도 기울어짐)\n",
    "    #startAngle : 타원을 그리는 시작 각도(3시 방향이 0도)\n",
    "    #endAngle: 타원을 그리는 종류 각도\n",
    "\n",
    "cv2.ellipse(img, (800, 300), (50,100), -45,0,360, (0,0,255),2, cv2.LINE_AA)\n",
    "\n",
    "\n",
    "\n",
    "cv2.imshow('img',img)\n",
    "cv2.waitKeyEx()\n",
    "cv2.destroyAllWindows()"
   ]
  },
  {
   "attachments": {},
   "cell_type": "markdown",
   "metadata": {},
   "source": [
    "### Text 작성"
   ]
  },
  {
   "cell_type": "code",
   "execution_count": 6,
   "metadata": {},
   "outputs": [],
   "source": [
    "img = np.ones((600,1200,3), np.uint8)*255\n",
    "\n",
    "cv2.putText(img, 'Hello openCV!',(600,100), cv2.FONT_HERSHEY_COMPLEX, 2#글자크기\n",
    "            ,(123,12,211), 2#두께\n",
    "            , cv2.LINE_AA)\n",
    "\n",
    "cv2.imshow('img',img)\n",
    "cv2.waitKeyEx()\n",
    "cv2.destroyAllWindows()"
   ]
  },
  {
   "attachments": {},
   "cell_type": "markdown",
   "metadata": {},
   "source": [
    "### 인삼 적기"
   ]
  },
  {
   "cell_type": "code",
   "execution_count": 7,
   "metadata": {},
   "outputs": [],
   "source": [
    "img = np.ones((600,1200,3), np.uint8)*255\n",
    "\n",
    "#ㅇ\n",
    "cv2.circle(img,(100,100), 50,(114,222,236),-1,cv2.LINE_AA)\n",
    "cv2.circle(img,(100,100), 30,(255,255,255),-1,cv2.LINE_AA)\n",
    "\n",
    "\n",
    "#ㅣ\n",
    "cv2.line(img, (200,0), (200,200), (114,222,236), 5, cv2.LINE_8)\n",
    "\n",
    "#ㄴ\n",
    "cv2.line(img, (70,180), (70,250), (114,222,236), 4, cv2.LINE_8)\n",
    "cv2.line(img, (70,250), (250,250), (114,222,236), 4, cv2.LINE_8)\n",
    "\n",
    "#ㅅ\n",
    "cv2.line(img, (350,50), (310,130), (0,0,255), 4, cv2.LINE_8)\n",
    "cv2.line(img, (310,130), (400,130), (0,0,255), 4, cv2.LINE_8)\n",
    "cv2.line(img, (400,130), (350,50), (0,0,255), 4, cv2.LINE_8)\n",
    "\n",
    "#ㅏ\n",
    "cv2.line(img, (450,0), (450,200), (0,0,255), 6, cv2.LINE_8)\n",
    "cv2.line(img, (450,100), (500,100), (0,0,255), 6, cv2.LINE_8)\n",
    "\n",
    "#ㅁ\n",
    "cv2.rectangle(img, (350,200),(480,250),(0,0,255), -1)\n",
    "cv2.rectangle(img, (360,210),(470,240),(255,255,255), -1)\n",
    "\n",
    "cv2.imshow('img',img)\n",
    "cv2.waitKeyEx()\n",
    "cv2.destroyAllWindows()"
   ]
  },
  {
   "attachments": {},
   "cell_type": "markdown",
   "metadata": {},
   "source": [
    "### 영상"
   ]
  },
  {
   "cell_type": "code",
   "execution_count": 8,
   "metadata": {},
   "outputs": [],
   "source": [
    "cap = cv2.VideoCapture(0)\n",
    "\n",
    "if not cap.isOpened():\n",
    "    print('Video open failed')\n",
    "    sys.exit()\n",
    "    \n",
    "while True:\n",
    "    ret,frame = cap.read() #이미지 계속 받기, 이미지가 들어오면 True\n",
    "    \n",
    "    if not ret:\n",
    "        print('frame read failed')\n",
    "        break\n",
    "    \n",
    "    # cv2.circle(frame,(100,100), 50,(0,0,255), 5, cv2.LINE_AA)\n",
    "    edge = cv2.Canny(frame, 50,150)\n",
    "    \n",
    "    cv2.imshow('frame', frame)\n",
    "    cv2.imshow('edge', edge)\n",
    "    \n",
    "    if cv2.waitKey(20) == 27:\n",
    "        break\n",
    "    \n",
    "\n",
    "cv2.destroyAllWindows()\n",
    "cap.release()"
   ]
  },
  {
   "cell_type": "code",
   "execution_count": 14,
   "metadata": {},
   "outputs": [],
   "source": [
    "cap = cv2.VideoCapture(0)\n",
    "\n",
    "if not cap.isOpened():\n",
    "    print('Video capture failed')\n",
    "    sys.exit()\n",
    "    \n",
    "w = int(cap.get(cv2.CAP_PROP_FRAME_WIDTH)) #들어오는 영상의 크기를 받음 \n",
    "h = int(cap.get(cv2.CAP_PROP_FRAME_HEIGHT))\n",
    "fps = int(cap.get(cv2.CAP_PROP_FPS)) #초당 몇 프레임씩 저장할지\n",
    "fourcc = cv2.VideoWriter_fourcc(*'DIVX') #코덱\n",
    "\n",
    "out = cv2.VideoWriter('output.avi', fourcc, fps, (w,h)) #비디오 저장\n",
    "# out = cv2.VideoWriter('output.avi', fourcc, fps, (w,h), iscolor = False) #칼라를 흑백으로\n",
    "\n",
    "\n",
    "    \n",
    "while True:\n",
    "    ret,frame = cap.read()\n",
    "    \n",
    "    if not ret:\n",
    "        print('frame read failed')\n",
    "        break\n",
    "    \n",
    "    # inversed = ~frame # 좌우 반전\n",
    "    \n",
    "    # cv2.circle(frame,(100,100), 50,(0,0,255), 5, cv2.LINE_AA)\n",
    "    edge = cv2.Canny(frame, 50,150,3)\n",
    "    edge_color = cv2.cvtColor(edge, cv2.COLOR_GRAY2BGR) #윤곽선 영상을 Gray -> color로 변경\n",
    "    \n",
    "    cv2.imshow('frame', frame)\n",
    "    cv2.imshow('edge', edge)\n",
    "    \n",
    "    out.write(edge_color)\n",
    "    if cv2.waitKey(20) ==27:\n",
    "        break\n",
    "    \n",
    "\n",
    "cv2.destroyAllWindows()\n",
    "cap.release()\n",
    "out.release()"
   ]
  },
  {
   "cell_type": "code",
   "execution_count": 18,
   "metadata": {},
   "outputs": [],
   "source": [
    "cap = cv2.VideoCapture(0)\n",
    "\n",
    "if not cap.isOpened():\n",
    "    print('Video capture failed')\n",
    "    sys.exit()\n",
    "\n",
    "w = int(cap.get(cv2.CAP_PROP_FRAME_WIDTH))\n",
    "h = int(cap.get(cv2.CAP_PROP_FRAME_HEIGHT))\n",
    "fps = int(cap.get(cv2.CAP_PROP_FPS))\n",
    "fourcc = cv2.VideoWriter_fourcc(*'DIVX')\n",
    "\n",
    "out = cv2.VideoWriter('output.avi', fourcc, fps, (2 * w, h))\n",
    "\n",
    "while True:\n",
    "    ret, frame = cap.read()\n",
    "\n",
    "    if not ret:\n",
    "        print('frame read failed')\n",
    "        break\n",
    "\n",
    "    edge = cv2.Canny(frame, 50, 150, 3)\n",
    "    edge_color = cv2.cvtColor(edge, cv2.COLOR_GRAY2BGR)\n",
    "\n",
    "    combined = cv2.hconcat([frame, edge_color])\n",
    "\n",
    "    cv2.imshow('combined', combined)\n",
    "\n",
    "    out.write(combined)\n",
    "\n",
    "    if cv2.waitKey(20) == 27:\n",
    "        break\n",
    "\n",
    "cv2.destroyAllWindows()\n",
    "cap.release()\n",
    "out.release()\n"
   ]
  }
 ],
 "metadata": {
  "kernelspec": {
   "display_name": "py3.8",
   "language": "python",
   "name": "python3"
  },
  "language_info": {
   "codemirror_mode": {
    "name": "ipython",
    "version": 3
   },
   "file_extension": ".py",
   "mimetype": "text/x-python",
   "name": "python",
   "nbconvert_exporter": "python",
   "pygments_lexer": "ipython3",
   "version": "3.8.16"
  },
  "orig_nbformat": 4
 },
 "nbformat": 4,
 "nbformat_minor": 2
}
