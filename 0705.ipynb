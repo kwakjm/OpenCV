{
 "cells": [
  {
   "cell_type": "code",
   "execution_count": 1,
   "metadata": {},
   "outputs": [],
   "source": [
    "import sys\n",
    "import numpy as np\n",
    "import matplotlib.pyplot as plt\n",
    "import cv2"
   ]
  },
  {
   "attachments": {},
   "cell_type": "markdown",
   "metadata": {},
   "source": [
    "### 키를 통해 사진 좌우반전"
   ]
  },
  {
   "cell_type": "code",
   "execution_count": 20,
   "metadata": {},
   "outputs": [],
   "source": [
    "## 키보드\n",
    "\n",
    "img = cv2.imread('./fig2/happy-happy-happy-cat-1.jpg', 0) #0을 하면 gray, cv2.imread_GRAYSCALE이랑 같은말\n",
    "\n",
    "cv2.namedWindow('img', cv2.WINDOW_AUTOSIZE)\n",
    "cv2.imshow('img', img)\n",
    "\n",
    "img_origin = img.copy() #deep copy\n",
    "\n",
    "while True:\n",
    "    key = cv2.waitKey() #키를 여러번 받을 상황이 생기면 위에 따로 key 정의해줌\n",
    "    if key == ord('q') or key == 27:\n",
    "        break\n",
    "    \n",
    "    elif key == ord('i'):\n",
    "        img = 255 - img\n",
    "        cv2.imshow('img', img)\n",
    "        \n",
    "    elif key == ord('c'):\n",
    "        img = cv2.Canny(img, 50,100)\n",
    "        cv2.imshow('img', img)\n",
    "        \n",
    "    elif key == ord('r'): #return\n",
    "        img = img_origin\n",
    "        cv2.imshow('img', img)\n",
    "        \n",
    "    elif key == ord('s'): #save\n",
    "        cv2.imwrite('./saved.png',img)\n",
    "        print('image saved')\n",
    "        \n",
    "\n",
    "cv2.destroyAllWindows()"
   ]
  },
  {
   "attachments": {},
   "cell_type": "markdown",
   "metadata": {},
   "source": [
    "### 동영상 좌우반전 하는법 형식 외우기"
   ]
  },
  {
   "cell_type": "code",
   "execution_count": 3,
   "metadata": {},
   "outputs": [],
   "source": [
    "cap = cv2.VideoCapture(0)\n",
    "\n",
    "if not cap.isOpened():\n",
    "    print('Video capture failed')\n",
    "    sys.exit()\n",
    "    \n",
    "f_flag = False\n",
    "e_flag = False\n",
    "\n",
    "while True:\n",
    "    ret, frame = cap.read()\n",
    "\n",
    "    if not ret:\n",
    "        print('frame read failed')\n",
    "        break\n",
    "    \n",
    "    if f_flag:\n",
    "        frame = cv2.flip(frame, 1)\n",
    "        \n",
    "    if e_flag:\n",
    "        frame = cv2.Canny(frame, 50,150)\n",
    "        \n",
    "    cv2.imshow('frame', frame)\n",
    "    key = cv2.waitKey(20)\n",
    "    \n",
    "    \n",
    "    if key == ord('q') or key == 27:\n",
    "        break\n",
    "    \n",
    "    elif key == ord('f'):\n",
    "        f_flag = not f_flag\n",
    "        \n",
    "    elif key == ord('e'):\n",
    "        e_flag = not e_flag\n",
    "\n",
    "cv2.destroyAllWindows()\n",
    "cap.release()\n"
   ]
  },
  {
   "attachments": {},
   "cell_type": "markdown",
   "metadata": {},
   "source": [
    "### 마우스 클릭으로 그림그리기"
   ]
  },
  {
   "cell_type": "code",
   "execution_count": 22,
   "metadata": {},
   "outputs": [
    {
     "name": "stdout",
     "output_type": "stream",
     "text": [
      "image saved\n",
      "image saved\n",
      "image saved\n"
     ]
    }
   ],
   "source": [
    "#onMouse(event, x, y, flags, param) ->None\n",
    "    #event\n",
    "    #x,y, : 창 기준으로 이벤트 발생 좌표\n",
    "    # flags : 이벤트시 발생 상태 e.g., \"ctrl\"\n",
    "    # param: cv2.setMouseCallback()함수에서 설정한 데이터\n",
    "\n",
    "def call_mouse(event, x,y,flags,param):\n",
    "    global oldx, oldy\n",
    "    if event == cv2.EVENT_LBUTTONDOWN:\n",
    "        oldx, oldy = x, y\n",
    "        \n",
    "        \n",
    "    elif event == cv2.EVENT_MOUSEMOVE:\n",
    "        if flags == cv2.EVENT_FLAG_LBUTTON:\n",
    "            cv2.line(img, (oldx,oldy), (x,y), (0,0,255), 10, \n",
    "                     cv2.LINE_AA)\n",
    "            cv2.imshow('img', img)\n",
    "            oldx, oldy = x,y\n",
    "\n",
    "img = np.ones((600,600,3), np.uint8)*255\n",
    "\n",
    "cv2.namedWindow('img', cv2.WINDOW_AUTOSIZE)\n",
    "cv2.setMouseCallback('img', call_mouse)\n",
    "# cv2.setMouseCallback(Windowname, onMouse, param =None) ->None\n",
    "    #windowName: 마우스이벤트를 수행할 창 이름\n",
    "    # onMouse:마우스 이벤트 콜백함수 \n",
    "    # param :콜백함수에 전달할 데이터\n",
    "    \n",
    "\n",
    "cv2.imshow('img', img)\n",
    "\n",
    "while True:\n",
    "    key = cv2.waitKey() #키를 여러번 받을 상황이 생기면 위에 따로 key 정의해줌\n",
    "    if key == ord('q') or key == 27:\n",
    "        break\n",
    "        \n",
    "    elif key == ord('r'): #return\n",
    "        img = np.ones((600,600,3), np.uint8)*255\n",
    "        cv2.imshow('img', img)\n",
    "    elif key == ord('s'): #save\n",
    "        cv2.imwrite('./saved.png',img)\n",
    "        print('image saved')\n",
    "        \n",
    "cv2.destroyAllWindows()"
   ]
  }
 ],
 "metadata": {
  "kernelspec": {
   "display_name": "py3.8",
   "language": "python",
   "name": "python3"
  },
  "language_info": {
   "codemirror_mode": {
    "name": "ipython",
    "version": 3
   },
   "file_extension": ".py",
   "mimetype": "text/x-python",
   "name": "python",
   "nbconvert_exporter": "python",
   "pygments_lexer": "ipython3",
   "version": "3.8.16"
  },
  "orig_nbformat": 4
 },
 "nbformat": 4,
 "nbformat_minor": 2
}
