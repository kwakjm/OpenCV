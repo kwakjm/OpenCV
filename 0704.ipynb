{
 "cells": [
  {
   "cell_type": "code",
   "execution_count": 1,
   "metadata": {},
   "outputs": [],
   "source": [
    "import numpy as np\n",
    "import sys\n",
    "import cv2\n",
    "import matplotlib.pyplot as plt\n",
    "import os"
   ]
  },
  {
   "cell_type": "code",
   "execution_count": 2,
   "metadata": {},
   "outputs": [],
   "source": [
    "src = cv2.imread('./fig2/cow.png')\n",
    "dst = cv2.imread('./fig2/green.png')\n",
    "src = cv2.resize(src, (400,300), interpolation=cv2.INTER_AREA)\n",
    "dst = cv2.resize(dst, (1100,700), interpolation=cv2.INTER_AREA)\n",
    "\n",
    "## Mask\n",
    "src_gray = cv2.cvtColor(src, cv2.COLOR_BGR2GRAY)\n",
    "_,mask = cv2.threshold(src_gray, 230,255,cv2.THRESH_BINARY_INV) #150보다 크고 255보다 작은 범위로 마스크만듦\n",
    "\n",
    "#초원사진의 사이즈가 너무 크기때문에\n",
    "h,w = src.shape[:2]\n",
    "dst_crop = dst[400:400+h, 400:400+w]\n",
    "\n",
    "\n",
    "cv2.copyTo(src, mask, dst_crop)\n",
    "\n",
    "\n",
    "cv2.namedWindow('dst', cv2.WINDOW_NORMAL)\n",
    "# cv2.imshow('src', src)\n",
    "cv2.imshow('dst', dst)\n",
    "# cv2.imshow('mask', mask)\n",
    "# cv2.imshow('dst_crop', dst_crop)\n",
    "\n",
    "cv2.waitKey()\n",
    "cv2.destroyAllWindows()"
   ]
  },
  {
   "cell_type": "code",
   "execution_count": 3,
   "metadata": {},
   "outputs": [],
   "source": [
    "img1 = np.zeros((400,600,3), np.uint8)\n",
    "img2 = np.ones((400,600,3), np.uint8)*255\n",
    "img3 = np.full((400,600,3), (53,180,156), np.uint8)\n",
    "\n",
    "cv2.imshow('img1', img1)\n",
    "cv2.imshow('img2', img2)\n",
    "cv2.imshow('img3', img3)\n",
    "\n",
    "cv2.waitKey()\n",
    "cv2.destroyAllWindows()"
   ]
  },
  {
   "cell_type": "code",
   "execution_count": 4,
   "metadata": {},
   "outputs": [],
   "source": [
    "img_paths = os.listdir('../OpenCV/fig/my_images/')\n",
    "file_names = []\n",
    "# print(img_paths)\n",
    "for i in img_paths:\n",
    "    file_name = '../OpenCV/fig/my_images/' +i\n",
    "    file_names.append(file_name)\n",
    "    \n",
    "    \n",
    "cv2.namedWindow('scene', cv2.WINDOW_NORMAL)\n",
    "cv2.setWindowProperty('scene', cv2.WND_PROP_FULLSCREEN,\n",
    "                      cv2.WINDOW_FULLSCREEN)\n",
    "\n",
    "idx = 0\n",
    "while True:\n",
    "    img = cv2.imread(file_names[idx])\n",
    "    if img is None:\n",
    "        continue\n",
    "    \n",
    "    cv2.imshow('scene', img)\n",
    "    \n",
    "    if cv2.waitKey(1000) == 27:\n",
    "        break\n",
    "    \n",
    "    idx += 1\n",
    "    \n",
    "    if idx >=len(file_names):\n",
    "        idx = 0\n",
    "        \n",
    "cv2.destroyAllWindows()"
   ]
  },
  {
   "cell_type": "code",
   "execution_count": 5,
   "metadata": {},
   "outputs": [
    {
     "ename": "AttributeError",
     "evalue": "module 'cv2' has no attribute 'im'",
     "output_type": "error",
     "traceback": [
      "\u001b[1;31m---------------------------------------------------------------------------\u001b[0m",
      "\u001b[1;31mAttributeError\u001b[0m                            Traceback (most recent call last)",
      "Cell \u001b[1;32mIn[5], line 1\u001b[0m\n\u001b[1;32m----> 1\u001b[0m img_BGR \u001b[39m=\u001b[39m cv2\u001b[39m.\u001b[39;49mim\n",
      "\u001b[1;31mAttributeError\u001b[0m: module 'cv2' has no attribute 'im'"
     ]
    }
   ],
   "source": [
    "### YOLO"
   ]
  }
 ],
 "metadata": {
  "kernelspec": {
   "display_name": "py3.8",
   "language": "python",
   "name": "python3"
  },
  "language_info": {
   "codemirror_mode": {
    "name": "ipython",
    "version": 3
   },
   "file_extension": ".py",
   "mimetype": "text/x-python",
   "name": "python",
   "nbconvert_exporter": "python",
   "pygments_lexer": "ipython3",
   "version": "3.8.16"
  },
  "orig_nbformat": 4
 },
 "nbformat": 4,
 "nbformat_minor": 2
}
