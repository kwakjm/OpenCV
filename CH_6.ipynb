{
 "cells": [
  {
   "cell_type": "code",
   "execution_count": 2,
   "metadata": {},
   "outputs": [],
   "source": [
    "import sys\n",
    "import glob\n",
    "import cv2\n",
    "import os\n",
    "import matplotlib.pyplot as plt\n",
    "import numpy as np"
   ]
  },
  {
   "cell_type": "code",
   "execution_count": 8,
   "metadata": {},
   "outputs": [],
   "source": [
    "img = cv2.imread('./fig/fig/cow.png')\n",
    "h,w = img.shape[:2]\n",
    "\n",
    "img_resize = cv2.resize(img,(int(w*1.3),int(h*1.3)),interpolation=cv2.INTER_LINEAR)\n",
    "cv2.imshow('s',img)\n",
    "cv2.imshow('wws',img_resize)\n",
    "\n",
    "cv2.waitKey()\n",
    "cv2.destroyAllWindows()"
   ]
  },
  {
   "cell_type": "code",
   "execution_count": 30,
   "metadata": {},
   "outputs": [],
   "source": [
    "def call_track(pos):\n",
    "    img_1[:]= img*(pos/255)\n",
    "    #img_1[:] = img_2 * pos\n",
    "    cv2.imshow('img',img_1)\n",
    "\n",
    "\n",
    "img = cv2.imread('./fig/fig/puppy.bmp',0)\n",
    "img_1 = np.ones_like(img)\n",
    "img_2 = img_1.copy()\n",
    "\n",
    "cv2.imshow('img',img)\n",
    "cv2.createTrackbar('Lavel','img',0,255,call_track)\n",
    "cv2.waitKey()\n",
    "cv2.destroyAllWindows()"
   ]
  },
  {
   "cell_type": "code",
   "execution_count": 29,
   "metadata": {},
   "outputs": [
    {
     "name": "stdout",
     "output_type": "stream",
     "text": [
      "0.0\n"
     ]
    }
   ],
   "source": [
    "import time\n",
    "img = cv2.imread('./fig/fig/puppy.bmp',0)\n",
    "\n",
    "t1 = time.time()\n",
    "img_1 = cv2.GaussianBlur(img,(0,0),2)\n",
    "t2 = time.time()\n",
    "\n",
    "cv2.imshow('img',img)\n",
    "cv2.imshow('img_1',img_1)\n",
    "cv2.waitKey()\n",
    "cv2.destroyAllWindows()\n",
    "\n",
    "print((t2-t1)*1000)"
   ]
  }
 ],
 "metadata": {
  "kernelspec": {
   "display_name": "TestOpenCv",
   "language": "python",
   "name": "python3"
  },
  "language_info": {
   "codemirror_mode": {
    "name": "ipython",
    "version": 3
   },
   "file_extension": ".py",
   "mimetype": "text/x-python",
   "name": "python",
   "nbconvert_exporter": "python",
   "pygments_lexer": "ipython3",
   "version": "3.11.4"
  },
  "orig_nbformat": 4
 },
 "nbformat": 4,
 "nbformat_minor": 2
}
